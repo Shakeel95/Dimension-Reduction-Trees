{
 "cells": [
  {
   "cell_type": "markdown",
   "metadata": {},
   "source": [
    "# Recover Loadings in GDFM with Dynamic PCA"
   ]
  },
  {
   "cell_type": "markdown",
   "metadata": {},
   "source": [
    "How noisy as spectral density matrix estimates? This notebook simulates factor models with the blockwise VAR representation proved in [Forni et al. (2015)](https://www.sciencedirect.com/science/article/abs/pii/S0304407614002693) recovers loadings using dynamic PCA as suggested in the same paper. "
   ]
  },
  {
   "cell_type": "markdown",
   "metadata": {},
   "source": [
    "## Setup"
   ]
  },
  {
   "cell_type": "code",
   "execution_count": 2,
   "metadata": {},
   "outputs": [],
   "source": [
    "source(\"../../scripts/GDFM_filter/simulate_stationary_VAR.R\")\n",
    "library(freqdom)"
   ]
  },
  {
   "cell_type": "markdown",
   "metadata": {},
   "source": [
    "### GDFM "
   ]
  },
  {
   "cell_type": "markdown",
   "metadata": {},
   "source": [
    "Let $(x_t^n)_{t \\geq 0} \\in \\mathbb{R}^n$ be a series of observations from an n-dimensional panel of time series admitting dynamic factor model representation, i.e. $x_t^n = \\chi_t^n + \\xi_t^n$  with common component $\\chi_t^n$ being driven by a $Q$-dimensional vector of shocks $u_t$. [Forni et al. (2015)](https://www.sciencedirect.com/science/article/abs/pii/S0304407614002693) showed that the panel model admits the following representation: "
   ]
  },
  {
   "cell_type": "markdown",
   "metadata": {},
   "source": [
    "$$\\begin{pmatrix}\n",
    "A_1(L) & \\cdots  & 0 \\\\ \n",
    "\\vdots  & \\ddots  & \\vdots \\\\ \n",
    "0 & \\cdots  & A_K(L)\n",
    "\\end{pmatrix} \\chi_t^n = \\begin{pmatrix}\n",
    "R_1\\\\ \n",
    "\\vdots\\\\ \n",
    "R_K\n",
    "\\end{pmatrix} u_t$$"
   ]
  },
  {
   "cell_type": "markdown",
   "metadata": {},
   "source": [
    "where for $j \\in \\left \\{ 1,.., K \\right \\}$ it holds that $A_j(L) = \\boldsymbol{I} - \\left ( \\Lambda_{j,1} L + ... + \\Lambda_{j,p}L^p \\right )$ with each $\\Lambda \\in \\mathbb{R}^{(Q+1)\\times(Q+1)}$ and $R_j \\in \\mathbb{R}^{(Q+1)\\times Q}$. The panel of common components can be thought of as K (w.l.o.g. $n \\equiv K(Q+1)$) blocks of $(Q+1)$ time series admitting a VAR(Q+1) representation of the form $A_j(L) \\chi_t^j = R_j u_t $ with $\\chi_t^j \\in \\mathbb{R}^{Q+1}$ and shocks $u_t$ being common to all blocks. "
   ]
  },
  {
   "cell_type": "markdown",
   "metadata": {},
   "source": [
    "### Simulating stationary VARs"
   ]
  },
  {
   "cell_type": "markdown",
   "metadata": {},
   "source": [
    "Let $X_t \\in \\mathbb{R}^n$ VAR with representation $\\Phi(L)X_t = \\boldsymbol{\\varepsilon}_t$ or $X_t = \\Phi_1X_{t-1} + ... + \\Phi_pX_{t-p} + \\boldsymbol{\\varepsilon}_t$. Necessary and sufficient conditions for the stationarity of $X_t$ are that the eigenvalues for the following matrix lie inside the unit cirlce: "
   ]
  },
  {
   "cell_type": "markdown",
   "metadata": {},
   "source": [
    "$$F = \\begin{pmatrix}\n",
    "\\Phi_1 & \\Phi_2 & \\cdots  & \\Phi_{p-1} & \\Phi_p\\\\ \n",
    "\\boldsymbol{I} & \\boldsymbol{0} & \\cdots  & \\boldsymbol{0} & \\boldsymbol{0}\\\\ \n",
    "\\boldsymbol{0} & \\boldsymbol{1} & \\cdots  &  \\boldsymbol{0} & \\boldsymbol{0} \\\\ \n",
    "\\vdots  & \\vdots  & \\ddots  & \\vdots  & \\vdots \\\\ \n",
    "\\boldsymbol{0} & \\boldsymbol{0} & \\cdots  & \\boldsymbol{I} & \\boldsymbol{0}\n",
    "\\end{pmatrix}$$"
   ]
  },
  {
   "cell_type": "markdown",
   "metadata": {},
   "source": [
    "To sample random stationary VAR coeficients consider the singular value decomposition $\\left ( \\Phi_1, ..., \\Phi_p \\right ) = U_\\Phi \\Sigma_\\Phi V_\\Phi$ where $U_\\Phi \\in \\mathbb{R}^{n \\times n}$ and $V_\\Phi \\in \\mathbb{R}^{np \\times np}$ are unitary matrices and $\\Sigma_\\Phi \\in \\mathbb{R}^{n \\times np}$ ir rectangular-diagonal with non-negative values. $U_Phi$ and $V_Phi$ can be sampled from unitary matrices, and to ensure stationarity the diiagonal elements of $\\Sigma_\\Phi$ can be drawn from the interval $\\left ( 0,1 \\right )$. "
   ]
  },
  {
   "cell_type": "markdown",
   "metadata": {},
   "source": [
    "### Recovering factor model structure"
   ]
  },
  {
   "cell_type": "markdown",
   "metadata": {},
   "source": [
    "[Barigozzi and Hallain (2018)](https://academic.oup.com/jfec/article-abstract/17/3/462/4915925?redirectedFrom=fulltext) summarize the estimation procedure as follows: \n",
    "\n",
    "1. *Filtering:* estimate $\\widehat{\\Sigma}_{xx}(\\theta)$ the spectral debnsity of $x_t^n$ and using the first q dynamic princiapl components estimate $\\widehat{\\Sigma}_{\\chi \\chi}(\\theta)$ the spectral density matrix of the common component. An inverse fourier transform is used to reconstruct the ACVs of the common component $\\left ( \\widehat{\\Gamma}_\\chi (j) \\right )_{j \\in \\mathbb{N} }$. The matrices $A_j(L)$ are then reconstructed by solving low low-dimensional Yule-Walker equations. \n",
    "2. *PCA*: the GDFM can be re-cast as a static factor model using $A(L)x_t^n = A(L)\\chi_t^n + A(L)\\xi_t^n$ giving $Z_t^n = Ru_t + e_t$ with $Z_t^n = A(L)x_t^n$. Parameters in the new static factor model can then be estimated via PCA. "
   ]
  },
  {
   "cell_type": "markdown",
   "metadata": {},
   "source": [
    "## Simulations"
   ]
  },
  {
   "cell_type": "markdown",
   "metadata": {},
   "source": [
    "### Error in spectral norm as $T \\rightarrow \\infty$"
   ]
  },
  {
   "cell_type": "code",
   "execution_count": 12,
   "metadata": {},
   "outputs": [
    {
     "name": "stdout",
     "output_type": "stream",
     "text": [
      "  |======================================================================| 100%"
     ]
    }
   ],
   "source": [
    "normed_errors <- c()\n",
    "time_points <- seq(100,10000,200)\n",
    "pb <- txtProgressBar(min = min(time_points), max = max(time_points), initial = min(time_points), style = 3)\n",
    "\n",
    "for (T in time_points){\n",
    "    \n",
    "    # simulate GDFM\n",
    "    x <- simulate_GDFM(Q = 2, # dimension of common shocks\n",
    "                   K = 3, # => n = (2+1)*3 = 9\n",
    "                   lags = 1, # VAR representation of common comp\n",
    "                   t = T # time points\n",
    "                   )\n",
    "    \n",
    "    # reconstruct common component\n",
    "    decomp <- dpca(x$panel, Ndpc = 2)\n",
    "    S <- fourier.inverse(decomp$spec.density, lags = 0:1)\n",
    "    \n",
    "    # reconstruct polynomilas\n",
    "    ar_coef <- abs(x$AR_coef[[1]][[1]])\n",
    "    est_coef <- abs(solve(S$operators[1:3,1:3,'lag 0']) %*% S$operators[1:3,1:3,'lag 1'])\n",
    "    normed_errors <- c(normed_errors, norm(ar_coef - est_coef, type = \"2\"))\n",
    "    \n",
    "    setTxtProgressBar(pb, T)\n",
    "    } \n"
   ]
  },
  {
   "cell_type": "code",
   "execution_count": 13,
   "metadata": {},
   "outputs": [
    {
     "data": {
      "image/png": "[encoded data removed]",
      "text/plain": [
       "plot without title"
      ]
     },
     "metadata": {
      "image/png": {
       "height": 420,
       "width": 420
      }
     },
     "output_type": "display_data"
    }
   ],
   "source": [
    "plot(time_points,normed_errors, type = \"b\")"
   ]
  }
 ],
 "metadata": {
  "kernelspec": {
   "display_name": "R",
   "language": "R",
   "name": "ir"
  },
  "language_info": {
   "codemirror_mode": "r",
   "file_extension": ".r",
   "mimetype": "text/x-r-source",
   "name": "R",
   "pygments_lexer": "r",
   "version": "3.6.2"
  }
 },
 "nbformat": 4,
 "nbformat_minor": 4
}
