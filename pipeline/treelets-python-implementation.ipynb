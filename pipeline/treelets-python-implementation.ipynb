{
 "cells": [
  {
   "cell_type": "markdown",
   "metadata": {},
   "source": [
    "# Treelets Python Implementation"
   ]
  },
  {
   "cell_type": "markdown",
   "metadata": {},
   "source": [
    "Python implementation of the treelets algorithm to cement my understanding. Working functions will be wrapped in a module and used to compare the treelets decomposition to PCA. "
   ]
  },
  {
   "cell_type": "markdown",
   "metadata": {},
   "source": [
    "## Setup"
   ]
  },
  {
   "cell_type": "code",
   "execution_count": 2,
   "metadata": {},
   "outputs": [],
   "source": [
    "import os \n",
    "import numpy as np\n",
    "import pandas as pd "
   ]
  },
  {
   "cell_type": "markdown",
   "metadata": {},
   "source": [
    "## Data"
   ]
  },
  {
   "cell_type": "code",
   "execution_count": 20,
   "metadata": {},
   "outputs": [],
   "source": [
    "X = np.array([np.random.normal(0,1,100),\n",
    "              np.random.normal(0,1,100),\n",
    "              np.random.normal(0,1,100),\n",
    "              np.random.normal(0,1,100)])"
   ]
  },
  {
   "cell_type": "code",
   "execution_count": 21,
   "metadata": {},
   "outputs": [],
   "source": [
    "C = np.cov(X)\n",
    "cc = np.corrcoef(X)"
   ]
  },
  {
   "cell_type": "markdown",
   "metadata": {},
   "source": [
    "## Functions"
   ]
  },
  {
   "cell_type": "code",
   "execution_count": 85,
   "metadata": {},
   "outputs": [],
   "source": [
    "def jacobi_rotation(C,a,b):\n",
    "    \"\"\"\n",
    "    Performs Jabobi rotation; decocorrelates two variables given covaraince matrix. Args: \n",
    "        - C: variance-covariance matrix\n",
    "        - a: index of first variable\n",
    "        - b: index of second variable\n",
    "    \"\"\"\n",
    "    \n",
    "    p = len(C)\n",
    "    \n",
    "    C_aa = C[a,a]\n",
    "    C_bb = C[b,b]\n",
    "    C_ab = C[a,b]\n",
    "    \n",
    "    theta = 0.5*np.arctan(2*C_ab/(C_aa - C_bb))\n",
    "    cos_theta = np.cos(theta)\n",
    "    sine_theta = np.sin(theta)\n",
    "    \n",
    "    rotation = np.array([[cos_theta, -sine_theta],\n",
    "                  [sine_theta, cos_theta]])\n",
    "    \n",
    "    J = np.identity(p)\n",
    "#     J[min([a,b]):max([a:b])]\n",
    "    \n",
    "    return True "
   ]
  }
 ],
 "metadata": {
  "kernelspec": {
   "display_name": "Python 3",
   "language": "python",
   "name": "python3"
  },
  "language_info": {
   "codemirror_mode": {
    "name": "ipython",
    "version": 3
   },
   "file_extension": ".py",
   "mimetype": "text/x-python",
   "name": "python",
   "nbconvert_exporter": "python",
   "pygments_lexer": "ipython3",
   "version": "3.7.4"
  }
 },
 "nbformat": 4,
 "nbformat_minor": 4
}
