{
 "cells": [
  {
   "cell_type": "markdown",
   "metadata": {},
   "source": [
    "# Treelets Python Implementation"
   ]
  },
  {
   "cell_type": "markdown",
   "metadata": {},
   "source": [
    "Python implementation of the treelets algorithm to cement my understanding. Working functions will be wrapped in a module and used to compare the treelets decomposition to PCA. "
   ]
  },
  {
   "cell_type": "markdown",
   "metadata": {},
   "source": [
    "## Setup"
   ]
  },
  {
   "cell_type": "code",
   "execution_count": 61,
   "metadata": {},
   "outputs": [],
   "source": [
    "import os \n",
    "import numpy as np\n",
    "import pandas as pd \n",
    "import matplotlib.pyplot as plt"
   ]
  },
  {
   "cell_type": "markdown",
   "metadata": {},
   "source": [
    "## Data"
   ]
  },
  {
   "cell_type": "code",
   "execution_count": 3,
   "metadata": {},
   "outputs": [],
   "source": [
    "X = np.array([np.random.normal(0,1,100),\n",
    "              np.random.normal(0,1,100),\n",
    "              np.random.normal(0,1,100),\n",
    "              np.random.normal(0,1,100)])"
   ]
  },
  {
   "cell_type": "code",
   "execution_count": 4,
   "metadata": {},
   "outputs": [],
   "source": [
    "C = np.cov(X)\n",
    "cc = np.corrcoef(X)"
   ]
  },
  {
   "cell_type": "markdown",
   "metadata": {},
   "source": [
    "## Functions"
   ]
  },
  {
   "cell_type": "code",
   "execution_count": 115,
   "metadata": {},
   "outputs": [],
   "source": [
    "def cov2cor(C): \n",
    "    \"\"\"\n",
    "    Converts covraiance matrix (numpy) to correlation matrix. \n",
    "    Args: \n",
    "        - C: variance-covaraince matrix\n",
    "    \"\"\"\n",
    "    \n",
    "    d = np.power(np.diag(C), -0.5)\n",
    "    D = np.diag(d)\n",
    "    CC = np.matmul(np.matmul(D,C),D)\n",
    "    \n",
    "    return CC"
   ]
  },
  {
   "cell_type": "code",
   "execution_count": 19,
   "metadata": {},
   "outputs": [],
   "source": [
    "def jacobi_rotation(C,a,b):\n",
    "    \"\"\"\n",
    "    Finds a 2x2 Jacobi rotation matrix that decocorrelates two variables. \n",
    "    Args: \n",
    "        - C: variance-covariance matrix\n",
    "        - a: index of first variable\n",
    "        - b: index of second variable\n",
    "    \"\"\"\n",
    "    \n",
    "    p = len(C)\n",
    "    C_aa = C[a,a]\n",
    "    C_bb = C[b,b]\n",
    "    C_ab = C[a,b]\n",
    "    \n",
    "    theta = 0.5*np.arctan(2*C_ab/(C_aa - C_bb))\n",
    "    cos_theta = np.cos(theta)\n",
    "    sine_theta = np.sin(theta)\n",
    "    \n",
    "    rotation = np.array([[cos_theta, -sine_theta],\n",
    "                  [sine_theta, cos_theta]])\n",
    "    \n",
    "    return rotation"
   ]
  },
  {
   "cell_type": "code",
   "execution_count": null,
   "metadata": {},
   "outputs": [],
   "source": [
    "def rotate_data(X, a, b, J): \n",
    "    \"\"\"\n",
    "    De-correlates two variables given their index and a Jacobi rotation matrix. \n",
    "    Args: \n",
    "        - J: 2x2 Jacobi rotation matrix\n",
    "        - X: nxp array of observations \n",
    "        - a: index of first variable\n",
    "        - b: index of second variabl\n",
    "    \"\"\"\n",
    "    \n",
    "    Z = X[[a,b]]\n",
    "    \n",
    "    return True "
   ]
  },
  {
   "cell_type": "code",
   "execution_count": 130,
   "metadata": {},
   "outputs": [],
   "source": [
    "def rotate_covariance_matrix(C, a, b, J):\n",
    "    \"\"\"\n",
    "    De-correlates two variables given their index and a Jacobi rotation matrix. \n",
    "    Args: \n",
    "        - J: 2x2 Jacobi rotation matrix\n",
    "        - C: variance-covaraince matrix \n",
    "        - a: index of first variable\n",
    "        - b: index of second variable\n",
    "    \"\"\"\n",
    "    \n",
    "    A = np.array([[C[a,a],C[a,b]],\n",
    "                  [C[b,a],C[b,b]]])\n",
    "    B = np.matmul(np.matmul(J.transpose(),A),J)\n",
    "    C[a,a], C[a,b], C[b,a], C[b,b] = B.flatten()\n",
    "    \n",
    "    return C"
   ]
  },
  {
   "cell_type": "code",
   "execution_count": 158,
   "metadata": {},
   "outputs": [],
   "source": [
    "def treelet_decomposition(X, depth): \n",
    "    \"\"\"\n",
    "    Performs treelet decomposition to a specified depth. \n",
    "    Args:\n",
    "        - X: nxp array of observations \n",
    "        - depth: treelet depth ∈ {1,...,p-1} \n",
    "        \n",
    "    Returns a nested dictionary for the treelet decomposition at each level. \n",
    "        - C: estimated correlation matrix at level\n",
    "        - J: rotation performed at level\n",
    "        - pair: variables were merged\n",
    "        - info: {0 = sum variable, 1 = difference varaible}\n",
    "    \"\"\"\n",
    "    \n",
    "    treelet = {}\n",
    "    treelet[0] = {C: np.cov(X), \n",
    "                  J: None,\n",
    "                  p: (None, None)}\n",
    "    \n",
    "    \n",
    "    return treelet"
   ]
  },
  {
   "cell_type": "code",
   "execution_count": 159,
   "metadata": {},
   "outputs": [
    {
     "ename": "NameError",
     "evalue": "name 'p' is not defined",
     "output_type": "error",
     "traceback": [
      "\u001b[0;31m---------------------------------------------------------------------------\u001b[0m",
      "\u001b[0;31mNameError\u001b[0m                                 Traceback (most recent call last)",
      "\u001b[0;32m<ipython-input-159-edce31f1ab58>\u001b[0m in \u001b[0;36m<module>\u001b[0;34m\u001b[0m\n\u001b[0;32m----> 1\u001b[0;31m \u001b[0mtreelet_decomposition\u001b[0m\u001b[0;34m(\u001b[0m\u001b[0mX\u001b[0m\u001b[0;34m,\u001b[0m\u001b[0;36m0\u001b[0m\u001b[0;34m)\u001b[0m\u001b[0;34m\u001b[0m\u001b[0;34m\u001b[0m\u001b[0m\n\u001b[0m",
      "\u001b[0;32m<ipython-input-158-01a911eb3a0e>\u001b[0m in \u001b[0;36mtreelet_decomposition\u001b[0;34m(X, depth)\u001b[0m\n\u001b[1;32m     16\u001b[0m     treelet[0] = {C: np.cov(X), \n\u001b[1;32m     17\u001b[0m                   \u001b[0mJ\u001b[0m\u001b[0;34m:\u001b[0m \u001b[0;32mNone\u001b[0m\u001b[0;34m,\u001b[0m\u001b[0;34m\u001b[0m\u001b[0;34m\u001b[0m\u001b[0m\n\u001b[0;32m---> 18\u001b[0;31m                   p: (None, None)}\n\u001b[0m\u001b[1;32m     19\u001b[0m \u001b[0;34m\u001b[0m\u001b[0m\n\u001b[1;32m     20\u001b[0m \u001b[0;34m\u001b[0m\u001b[0m\n",
      "\u001b[0;31mNameError\u001b[0m: name 'p' is not defined"
     ]
    }
   ],
   "source": [
    "treelet_decomposition(X,0)"
   ]
  },
  {
   "cell_type": "markdown",
   "metadata": {},
   "source": [
    "## Tests..."
   ]
  }
 ],
 "metadata": {
  "kernelspec": {
   "display_name": "Python 3",
   "language": "python",
   "name": "python3"
  },
  "language_info": {
   "codemirror_mode": {
    "name": "ipython",
    "version": 3
   },
   "file_extension": ".py",
   "mimetype": "text/x-python",
   "name": "python",
   "nbconvert_exporter": "python",
   "pygments_lexer": "ipython3",
   "version": "3.7.4"
  }
 },
 "nbformat": 4,
 "nbformat_minor": 4
}
