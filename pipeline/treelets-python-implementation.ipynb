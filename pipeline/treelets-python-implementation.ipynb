{
 "cells": [
  {
   "cell_type": "markdown",
   "metadata": {},
   "source": [
    "# Treelets Python Implementation"
   ]
  },
  {
   "cell_type": "markdown",
   "metadata": {},
   "source": [
    "Python implementation of the treelets algorithm to cement my understanding. Working functions will be wrapped in a module and used to compare the treelets decomposition to PCA. "
   ]
  },
  {
   "cell_type": "markdown",
   "metadata": {},
   "source": [
    "## Setup"
   ]
  },
  {
   "cell_type": "code",
   "execution_count": 210,
   "metadata": {},
   "outputs": [],
   "source": [
    "import matplotlib.pyplot as plt\n",
    "import pandas as pd\n",
    "import numpy as np\n",
    "import sys\n",
    "import os"
   ]
  },
  {
   "cell_type": "markdown",
   "metadata": {},
   "source": [
    "## Functions"
   ]
  },
  {
   "cell_type": "code",
   "execution_count": 274,
   "metadata": {},
   "outputs": [],
   "source": [
    "def jacobi_rotation(C,a,b):\n",
    "    \"\"\"\n",
    "    Finds a 2x2 Jacobi rotation matrix that decocorrelates two variables. \n",
    "    Args: \n",
    "        - C: variance-covariance matrix\n",
    "        - a: index of first variable\n",
    "        - b: index of second variable\n",
    "    \"\"\"\n",
    "    \n",
    "    p = len(C)\n",
    "    C_aa = C[a,a]\n",
    "    C_bb = C[b,b]\n",
    "    C_ab = C[a,b]\n",
    "    \n",
    "    theta = 0.5*np.arctan(2*C_ab/(C_aa - C_bb))\n",
    "    cos_theta = np.cos(theta)\n",
    "    sine_theta = np.sin(theta)\n",
    "    \n",
    "    rotation = np.array([[cos_theta, -sine_theta],\n",
    "                  [sine_theta, cos_theta]])\n",
    "    \n",
    "    return rotation"
   ]
  },
  {
   "cell_type": "code",
   "execution_count": 275,
   "metadata": {},
   "outputs": [],
   "source": [
    "def rotate_covariance_matrix(C, a, b, J):\n",
    "    \"\"\"\n",
    "    De-correlates two variables given their index and a Jacobi rotation matrix. \n",
    "    Args: \n",
    "        - J: 2x2 Jacobi rotation matrix\n",
    "        - C: variance-covaraince matrix \n",
    "        - a: index of first variable\n",
    "        - b: index of second variable\n",
    "    \"\"\"\n",
    "    \n",
    "    p = C.shape[0]\n",
    "    R = np.identity(p)\n",
    "    R[a,a], R[a,b], R[b,a], R[b,b] = J.flatten()\n",
    "    C = np.matmul(np.matmul(R.transpose(),C),R)\n",
    "    \n",
    "    return C"
   ]
  },
  {
   "cell_type": "code",
   "execution_count": 374,
   "metadata": {},
   "outputs": [],
   "source": [
    "def treelet_decomposition1(C, L): \n",
    "\n",
    "    treelet = {0:{\"C\": C, \n",
    "                  \"J\": None,\n",
    "                  \"pair\": (None, None), \n",
    "                  \"order\": (None, None)}\n",
    "              }\n",
    "    mask = []\n",
    "    \n",
    "    for l in range(1,L):\n",
    "        \n",
    "        # find most correlated vars \n",
    "        which_max = np.abs(np.triu(C, 1))\n",
    "        if (l > 1):\n",
    "            which_max[mask,:] = -1\n",
    "            which_max[:,mask] = -1    \n",
    "        a, b = np.unravel_index(np.argmax(which_max, axis = None), which_max.shape)\n",
    "        print((a,b))\n",
    "        \n",
    "        J = jacobi_rotation(C, a, b)\n",
    "        C = rotate_covariance_matrix(C,a,b,J)\n",
    "        \n",
    "        treelet[l] = {\"C\": C,\n",
    "                      \"J\": J,\n",
    "                      \"pair\": (a,b), \n",
    "                      \"order\": (1,0) if C[a,a] > C[b,b] else (0,1)\n",
    "                     }\n",
    "        \n",
    "        mask += [b if C[a,a] > C[b,b] else a]\n",
    "        \n",
    "    return treelet"
   ]
  },
  {
   "cell_type": "markdown",
   "metadata": {},
   "source": [
    "## Tests "
   ]
  },
  {
   "cell_type": "code",
   "execution_count": 356,
   "metadata": {},
   "outputs": [],
   "source": [
    "# load data\n",
    "dat = pd.read_csv(\"../data/Ahat.csv\")\n",
    "X = dat.drop(\"Unnamed: 0\", axis = 1)\\\n",
    "       .to_numpy()"
   ]
  },
  {
   "cell_type": "code",
   "execution_count": 357,
   "metadata": {},
   "outputs": [],
   "source": [
    "Jx = jacobi_rotation(X,10,13)"
   ]
  },
  {
   "cell_type": "code",
   "execution_count": 358,
   "metadata": {},
   "outputs": [],
   "source": [
    "jj = np.array([[0.748697326664324,-0.662911994947816],\n",
    "               [0.662911994947816, 0.748697326664324]])"
   ]
  },
  {
   "cell_type": "code",
   "execution_count": 359,
   "metadata": {},
   "outputs": [
    {
     "data": {
      "text/plain": [
       "1.0777816030057419"
      ]
     },
     "execution_count": 359,
     "metadata": {},
     "output_type": "execute_result"
    }
   ],
   "source": [
    "rotate_covariance_matrix(X,10,13,Jx)[10,10]"
   ]
  },
  {
   "cell_type": "code",
   "execution_count": 379,
   "metadata": {},
   "outputs": [
    {
     "name": "stdout",
     "output_type": "stream",
     "text": [
      "(10, 13)\n",
      "(42, 43)\n",
      "(22, 24)\n",
      "(10, 14)\n",
      "(10, 24)\n",
      "(10, 25)\n",
      "(10, 11)\n",
      "(10, 18)\n",
      "(31, 32)\n"
     ]
    }
   ],
   "source": [
    "tree = treelet_decomposition1(X,10)"
   ]
  },
  {
   "cell_type": "code",
   "execution_count": 389,
   "metadata": {},
   "outputs": [
    {
     "data": {
      "text/plain": [
       "array([[ 0.8528102 , -0.52222099],\n",
       "       [ 0.52222099,  0.8528102 ]])"
      ]
     },
     "execution_count": 389,
     "metadata": {},
     "output_type": "execute_result"
    }
   ],
   "source": [
    "tree[4][\"J\"]"
   ]
  },
  {
   "cell_type": "code",
   "execution_count": 391,
   "metadata": {},
   "outputs": [
    {
     "data": {
      "text/plain": [
       "array([[ 5.60225555e-01, -9.25000000e-05, -6.35917900e-03, ...,\n",
       "         1.57928130e-02, -2.48866630e-02,  1.14245700e-02],\n",
       "       [ 0.00000000e+00, -9.07000000e-05,  1.55628200e-03, ...,\n",
       "         1.40282070e-02,  1.57928130e-02, -2.48866630e-02],\n",
       "       [ 9.72905520e-01, -3.20913100e-03, -2.20000000e-05, ...,\n",
       "         3.46132400e-03,  1.40282070e-02,  1.57928130e-02],\n",
       "       ...,\n",
       "       [ 5.62853268e-01, -3.94783300e-03, -4.81945600e-03, ...,\n",
       "         1.66089100e-03,  3.86237800e-03, -1.45741000e-04],\n",
       "       [-1.87265972e-01, -1.95477200e-03,  5.58589100e-03, ...,\n",
       "         9.84632200e-03,  1.66089100e-03,  3.86237800e-03],\n",
       "       [ 1.02565002e+00,  4.76304700e-03, -5.68111800e-03, ...,\n",
       "         1.89921400e-03,  9.84632200e-03,  1.66089100e-03]])"
      ]
     },
     "execution_count": 391,
     "metadata": {},
     "output_type": "execute_result"
    }
   ],
   "source": [
    "pd.read_csv(\"../data/clean UK macro data.csv\").to_numpy()"
   ]
  },
  {
   "cell_type": "code",
   "execution_count": null,
   "metadata": {},
   "outputs": [],
   "source": []
  }
 ],
 "metadata": {
  "kernelspec": {
   "display_name": "Python 3",
   "language": "python",
   "name": "python3"
  },
  "language_info": {
   "codemirror_mode": {
    "name": "ipython",
    "version": 3
   },
   "file_extension": ".py",
   "mimetype": "text/x-python",
   "name": "python",
   "nbconvert_exporter": "python",
   "pygments_lexer": "ipython3",
   "version": "3.7.4"
  }
 },
 "nbformat": 4,
 "nbformat_minor": 4
}
