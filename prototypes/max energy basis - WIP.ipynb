{
 "cells": [
  {
   "cell_type": "markdown",
   "metadata": {},
   "source": [
    "## max energy basis - WIP"
   ]
  },
  {
   "cell_type": "markdown",
   "metadata": {},
   "source": [
    "### setup "
   ]
  },
  {
   "cell_type": "code",
   "execution_count": 133,
   "metadata": {},
   "outputs": [],
   "source": [
    "import numpy as np \n",
    "import pandas as pd\n",
    "import scipy.stats as ss"
   ]
  },
  {
   "cell_type": "code",
   "execution_count": 1,
   "metadata": {},
   "outputs": [],
   "source": [
    "import matplotlib.pyplot as plt\n",
    "import sys\n",
    "import os"
   ]
  },
  {
   "cell_type": "code",
   "execution_count": 2,
   "metadata": {},
   "outputs": [],
   "source": [
    "sys.path.append(\"../scripts\")\n",
    "import python_treelet_implementation as pytree\n",
    "import utils"
   ]
  },
  {
   "cell_type": "markdown",
   "metadata": {},
   "source": [
    "### function"
   ]
  },
  {
   "cell_type": "code",
   "execution_count": 207,
   "metadata": {},
   "outputs": [],
   "source": [
    "def energy_score(w,X): \n",
    "    \"\"\"\n",
    "    Returns normalised energy score for the column of a Dirac basis. \n",
    "    Args: \n",
    "        - w: px1 vector\n",
    "        - X: nxp matrix\n",
    "    \"\"\"\n",
    "    p = X.shape[1]\n",
    "    \n",
    "    mean_cross_prod = [np.inner(w,X[:,i]) for i in range(p)]\n",
    "    mean_square_prod = sum(np.apply_along_axis(sum,1,X))**2 \n",
    "    energy = (sum(mean_cross_prod))**2 / mean_square_prod\n",
    "    \n",
    "    return energy"
   ]
  },
  {
   "cell_type": "code",
   "execution_count": 208,
   "metadata": {},
   "outputs": [],
   "source": [
    "def best_basis(tree, K, X): \n",
    "    \"\"\"\n",
    "    Finds best K-basis for a treelet decomposition by maximising the en\n",
    "    Args: \n",
    "        - tree: nested dictionary returned by treelet_decomposition function\n",
    "        - K: dimesnion of treelet representation\n",
    "        - X: nxp matrix of observations\n",
    "        \n",
    "    Returns: \n",
    "        - best_basis: \n",
    "        - basis logger: the same information for every K-basis\n",
    "    \"\"\"\n",
    "    \n",
    "    L = len(tree); p = len(tree[0][\"B\"])\n",
    "    best_basis = dict()\n",
    "    basis_logger = dict()\n",
    "    \n",
    "    basis = tree[0][\"B\"]\n",
    "    energies = [energy_score(basis[:,i],X) for i in range(p)]\n",
    "    energy_rankings = ss.rankdata(energies)\n",
    "    K_best = [i for i in range(p) if energy_rankings[i] <= K]\n",
    "    energy = sum([energies[i] for i in K_best])\n",
    "\n",
    "    basis_logger[0] = {\"level\": 0, \n",
    "                       \"energy\": energy,\n",
    "                       \"index\": K_best,\n",
    "                       \"basis\": basis[:,K_best]\n",
    "                      }\n",
    "    best_basis = basis_logger[0]\n",
    "    \n",
    "    \n",
    "    for l in range(1,L): \n",
    "        \n",
    "            basis = tree[l][\"B\"]\n",
    "            energies = [energy_score(basis[:,i],X) for i in range(p)]\n",
    "            energy_rankings = ss.rankdata(energies)\n",
    "            K_best = [i for i in range(p) if energy_rankings[i] <= K]\n",
    "            energy = sum([energies[i] for i in K_best])\n",
    "            \n",
    "            basis_logger[l] = {\"level\": l, \n",
    "                               \"energy\": energy, \n",
    "                               \"index\": K_best, \n",
    "                               \"basis\": basis[:,K_best]\n",
    "                              }\n",
    "            if (energy > best_basis[\"energy\"]): \n",
    "                best_basis = basis_logger[l]\n",
    "        \n",
    "    return best_basis, basis_logger"
   ]
  },
  {
   "cell_type": "code",
   "execution_count": 210,
   "metadata": {},
   "outputs": [
    {
     "data": {
      "text/plain": [
       "{'level': 0,\n",
       " 'energy': 0.007319366803097416,\n",
       " 'index': [1, 5],\n",
       " 'basis': array([[0., 0.],\n",
       "        [1., 0.],\n",
       "        [0., 0.],\n",
       "        [0., 0.],\n",
       "        [0., 0.],\n",
       "        [0., 1.],\n",
       "        [0., 0.]])}"
      ]
     },
     "execution_count": 210,
     "metadata": {},
     "output_type": "execute_result"
    }
   ],
   "source": [
    "best_basis(tree, 2, dat)[0]"
   ]
  },
  {
   "cell_type": "code",
   "execution_count": 202,
   "metadata": {},
   "outputs": [],
   "source": [
    "dat = np.array([np.random.normal(0,1,700)])\\\n",
    "              .reshape(7,100)"
   ]
  },
  {
   "cell_type": "code",
   "execution_count": 203,
   "metadata": {},
   "outputs": [],
   "source": [
    "tree = pytree.treelet_decomposition(dat,7)"
   ]
  },
  {
   "cell_type": "code",
   "execution_count": 189,
   "metadata": {},
   "outputs": [
    {
     "ename": "SyntaxError",
     "evalue": "invalid syntax (<ipython-input-189-0bbe42cab24f>, line 1)",
     "output_type": "error",
     "traceback": [
      "\u001b[0;36m  File \u001b[0;32m\"<ipython-input-189-0bbe42cab24f>\"\u001b[0;36m, line \u001b[0;32m1\u001b[0m\n\u001b[0;31m    sum en[i] for i in\u001b[0m\n\u001b[0m         ^\u001b[0m\n\u001b[0;31mSyntaxError\u001b[0m\u001b[0;31m:\u001b[0m invalid syntax\n"
     ]
    }
   ],
   "source": [
    "sum en[i] for i in "
   ]
  },
  {
   "cell_type": "code",
   "execution_count": null,
   "metadata": {},
   "outputs": [],
   "source": []
  }
 ],
 "metadata": {
  "kernelspec": {
   "display_name": "Python 3",
   "language": "python",
   "name": "python3"
  },
  "language_info": {
   "codemirror_mode": {
    "name": "ipython",
    "version": 3
   },
   "file_extension": ".py",
   "mimetype": "text/x-python",
   "name": "python",
   "nbconvert_exporter": "python",
   "pygments_lexer": "ipython3",
   "version": "3.7.4"
  }
 },
 "nbformat": 4,
 "nbformat_minor": 4
}
