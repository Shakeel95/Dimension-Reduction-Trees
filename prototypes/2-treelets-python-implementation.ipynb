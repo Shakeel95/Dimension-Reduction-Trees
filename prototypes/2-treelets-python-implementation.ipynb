{
 "cells": [
  {
   "cell_type": "markdown",
   "metadata": {},
   "source": [
    "# Treelets Python Implementation"
   ]
  },
  {
   "cell_type": "markdown",
   "metadata": {},
   "source": [
    "Python implementation of the treelets algorithm to cement my understanding. Working functions will be wrapped in a module and used to compare the treelets decomposition to PCA. "
   ]
  },
  {
   "cell_type": "markdown",
   "metadata": {},
   "source": [
    "## Setup"
   ]
  },
  {
   "cell_type": "code",
   "execution_count": 1,
   "metadata": {},
   "outputs": [],
   "source": [
    "import matplotlib.pyplot as plt\n",
    "from scipy.linalg import block_diag\n",
    "import sys\n",
    "import numpy as np\n",
    "import pandas as pd\n",
    "import os"
   ]
  },
  {
   "cell_type": "code",
   "execution_count": 2,
   "metadata": {},
   "outputs": [],
   "source": [
    "sys.path.append(\"../scripts\")\n",
    "import python_treelet_implementation as pytree\n",
    "import utils"
   ]
  },
  {
   "cell_type": "markdown",
   "metadata": {},
   "source": [
    "## Workings"
   ]
  },
  {
   "cell_type": "markdown",
   "metadata": {},
   "source": [
    "Example of the implementation applied to noise. Note that both original paper and CRAN implementation use the correlation between two variables a measure of their similarity. The parameter `abs_` controls whether the correlation or absolute correlation is used as a similarity measure. "
   ]
  },
  {
   "cell_type": "code",
   "execution_count": 3,
   "metadata": {},
   "outputs": [
    {
     "data": {
      "text/plain": [
       "array([[ 1.11996749, -0.0049467 ,  0.02016802, -0.03977121],\n",
       "       [-0.0049467 ,  0.80630094, -0.11024537,  0.20480118],\n",
       "       [ 0.02016802, -0.11024537,  0.96404256,  0.04159646],\n",
       "       [-0.03977121,  0.20480118,  0.04159646,  1.22730231]])"
      ]
     },
     "execution_count": 3,
     "metadata": {},
     "output_type": "execute_result"
    }
   ],
   "source": [
    "test_data = np.array([np.random.normal(0,1,400)])\\\n",
    "              .reshape(4,100)\n",
    "np.cov(test_data)"
   ]
  },
  {
   "cell_type": "markdown",
   "metadata": {},
   "source": [
    "Build treelet decomposition.  "
   ]
  },
  {
   "cell_type": "code",
   "execution_count": 4,
   "metadata": {},
   "outputs": [],
   "source": [
    "tree = pytree.treelet_decomposition(X = test_data, \n",
    "                                    L = 4)"
   ]
  },
  {
   "cell_type": "markdown",
   "metadata": {},
   "source": [
    "### Treelet covariance matrix"
   ]
  },
  {
   "cell_type": "markdown",
   "metadata": {},
   "source": [
    "At each level we can extract the treelet variance-covaraince matrix.  "
   ]
  },
  {
   "cell_type": "code",
   "execution_count": 6,
   "metadata": {},
   "outputs": [
    {
     "data": {
      "text/plain": [
       "array([[ 1.12253387e+00, -4.56826350e-03, -1.28433778e-17,\n",
       "        -3.87718293e-02],\n",
       "       [-4.56826350e-03,  7.23111204e-01, -1.18163290e-01,\n",
       "         2.68188421e-17],\n",
       "       [ 1.73069322e-17, -1.18163290e-01,  9.61476179e-01,\n",
       "         1.95913062e-03],\n",
       "       [-3.87718293e-02, -3.41647276e-17,  1.95913062e-03,\n",
       "         1.31049204e+00]])"
      ]
     },
     "execution_count": 6,
     "metadata": {},
     "output_type": "execute_result"
    }
   ],
   "source": [
    "tree[2][\"C\"]"
   ]
  },
  {
   "cell_type": "markdown",
   "metadata": {},
   "source": [
    "### Orderings"
   ]
  },
  {
   "cell_type": "markdown",
   "metadata": {},
   "source": [
    "We can extract which variables were merged at each level, and which was designated the sum variable. "
   ]
  },
  {
   "cell_type": "code",
   "execution_count": 7,
   "metadata": {},
   "outputs": [
    {
     "data": {
      "text/plain": [
       "(0, 2)"
      ]
     },
     "execution_count": 7,
     "metadata": {},
     "output_type": "execute_result"
    }
   ],
   "source": [
    "tree[2][\"pair\"]"
   ]
  },
  {
   "cell_type": "code",
   "execution_count": 8,
   "metadata": {},
   "outputs": [
    {
     "data": {
      "text/plain": [
       "(1, 0)"
      ]
     },
     "execution_count": 8,
     "metadata": {},
     "output_type": "execute_result"
    }
   ],
   "source": [
    "tree[2][\"order\"]"
   ]
  },
  {
   "cell_type": "markdown",
   "metadata": {},
   "source": [
    "### Dirac basis "
   ]
  },
  {
   "cell_type": "markdown",
   "metadata": {},
   "source": [
    "At each level we can extract the Dirac basis. "
   ]
  },
  {
   "cell_type": "code",
   "execution_count": 9,
   "metadata": {},
   "outputs": [
    {
     "data": {
      "text/plain": [
       "array([[ 0.99200074,  0.        , -0.12623209,  0.        ],\n",
       "       [ 0.        ,  0.92648353,  0.        ,  0.37633532],\n",
       "       [ 0.12623209,  0.        ,  0.99200074,  0.        ],\n",
       "       [ 0.        , -0.37633532,  0.        ,  0.92648353]])"
      ]
     },
     "execution_count": 9,
     "metadata": {},
     "output_type": "execute_result"
    }
   ],
   "source": [
    "tree[2][\"B\"]"
   ]
  },
  {
   "cell_type": "markdown",
   "metadata": {},
   "source": [
    "## Comparison with CRAN test data"
   ]
  },
  {
   "cell_type": "markdown",
   "metadata": {},
   "source": [
    "Python implementation applied to similarity matrix supplied with the package. Prior to applying the treelet transform no block structure is apparent."
   ]
  },
  {
   "cell_type": "code",
   "execution_count": 10,
   "metadata": {},
   "outputs": [
    {
     "data": {
      "text/plain": [
       "<matplotlib.image.AxesImage at 0x20eee82acc8>"
      ]
     },
     "execution_count": 10,
     "metadata": {},
     "output_type": "execute_result"
    },
    {
     "data": {
      "image/png": "[encoded data removed]",
      "text/plain": [
       "<Figure size 288x288 with 1 Axes>"
      ]
     },
     "metadata": {
      "needs_background": "light"
     },
     "output_type": "display_data"
    }
   ],
   "source": [
    "Ahat = pd.read_csv(\"../data/Ahat.csv\")\\\n",
    "         .drop(\"Unnamed: 0\", axis = 1)\\\n",
    "         .to_numpy()\n",
    "plt.matshow(Ahat)"
   ]
  },
  {
   "cell_type": "markdown",
   "metadata": {},
   "source": [
    "The implementation achieves the same treelet covaraince matrix (up to rounding errors) and varaible merges in the same order as code on CRAN. Even at low levels of the tree the block structure is apparent. Using the absolute value of the correlation matrix lead to variable merges being performed a different order, and a different treelet decomposition. At low levels a block structure is still visible. "
   ]
  },
  {
   "cell_type": "code",
   "execution_count": 11,
   "metadata": {},
   "outputs": [
    {
     "data": {
      "text/plain": [
       "<matplotlib.image.AxesImage at 0x20ef15d1dc8>"
      ]
     },
     "execution_count": 11,
     "metadata": {},
     "output_type": "execute_result"
    },
    {
     "data": {
      "image/png": "[encoded data removed]",
      "text/plain": [
       "<Figure size 288x288 with 1 Axes>"
      ]
     },
     "metadata": {
      "needs_background": "light"
     },
     "output_type": "display_data"
    }
   ],
   "source": [
    "tree = pytree.treelet_decomposition(X = Ahat,\n",
    "                                    L = 50)\n",
    "plt.matshow(tree[10][\"C\"])"
   ]
  },
  {
   "cell_type": "markdown",
   "metadata": {},
   "source": [
    "## Comparison with Theory on Block Covaraince Matrices"
   ]
  },
  {
   "cell_type": "markdown",
   "metadata": {},
   "source": [
    "### Test with Lemma 1"
   ]
  },
  {
   "cell_type": "markdown",
   "metadata": {},
   "source": [
    "At each level $l$ the population treelet decomposition on single-block covaraince matrix returns sum varaible $s_{l,i}$ which is defined on a disjoint set $\\mathcal{A}_{l,i} \\subseteq \\left \\{ 1,...,p \\right \\}$ and a scaling function $\\phi_{l,i}$ with non-zero entries only for elements in $\\mathcal{A}_{l,i}$, in particular: "
   ]
  },
  {
   "cell_type": "markdown",
   "metadata": {},
   "source": [
    "* sum variable: $s_{l,i} = \\frac{1}{\\sqrt{\\mathcal{A}_{l,i}}} \\sum_{j \\in \\mathcal{A}_{l,i}} x_j$\n",
    "* scaling function: $\\phi_{l,i} = \\frac{1}{\\sqrt{\\mathcal{A}_{l,i}}}\\times \\mathcal{I}_{s_{l,i}}$"
   ]
  },
  {
   "cell_type": "markdown",
   "metadata": {},
   "source": [
    "The following example with a $5 \\times 5$ matrix of ones shows this to be true. At the population level additive noised corresponds to adding the noise variance to the diagonal of the correlation matrix. "
   ]
  },
  {
   "cell_type": "code",
   "execution_count": 118,
   "metadata": {},
   "outputs": [],
   "source": [
    "tree = pytree.treelet_decomposition(X = np.ones((5,5)) + .2*np.eye(5),\n",
    "                                    L = 5)"
   ]
  },
  {
   "cell_type": "code",
   "execution_count": 119,
   "metadata": {},
   "outputs": [
    {
     "data": {
      "text/plain": [
       "array([[ 0.4472136 , -0.70710678, -0.40824829, -0.28867513, -0.2236068 ],\n",
       "       [ 0.4472136 ,  0.70710678, -0.40824829, -0.28867513, -0.2236068 ],\n",
       "       [ 0.4472136 ,  0.        ,  0.81649658, -0.28867513, -0.2236068 ],\n",
       "       [ 0.4472136 ,  0.        ,  0.        ,  0.8660254 , -0.2236068 ],\n",
       "       [ 0.4472136 ,  0.        ,  0.        ,  0.        ,  0.89442719]])"
      ]
     },
     "execution_count": 119,
     "metadata": {},
     "output_type": "execute_result"
    }
   ],
   "source": [
    "tree[4][\"B\"]"
   ]
  },
  {
   "cell_type": "markdown",
   "metadata": {},
   "source": [
    "### Tests with Theorem 2"
   ]
  },
  {
   "cell_type": "markdown",
   "metadata": {},
   "source": [
    "The population treelet decomposition on a standard block covariance matrix having $k$ blocks with low \"between block\" covariance and high \"within block\" covaraince returns sum variables and scaling functions which are constant on each block $\\mathcal{B}_k$, in particuar: "
   ]
  },
  {
   "cell_type": "markdown",
   "metadata": {},
   "source": [
    "* sum variable: $s_k = \\frac{1}{\\sqrt{p_k}}\\sum_{j \\in \\mathcal{B}_k} x_k$\n",
    "* scaling function: $\\phi_{k} = \\frac{1}{\\sqrt{p_k}}\\times\\mathcal{I}_{\\mathcal{B}_k}$"
   ]
  },
  {
   "cell_type": "markdown",
   "metadata": {},
   "source": [
    "The following example with a block diagonal matrix shows this to be true. "
   ]
  },
  {
   "cell_type": "code",
   "execution_count": 120,
   "metadata": {},
   "outputs": [],
   "source": [
    "A = B = C = np.ones((2,2))\n",
    "tree = pytree.treelet_decomposition(X = block_diag(A,B,C) + .2*np.eye(6),\n",
    "                                    L = 6\n",
    "                                   )"
   ]
  },
  {
   "cell_type": "code",
   "execution_count": 121,
   "metadata": {},
   "outputs": [
    {
     "data": {
      "text/plain": [
       "array([[ 0.70710678, -0.70710678,  0.        ,  0.        ,  0.        ,\n",
       "         0.        ],\n",
       "       [ 0.70710678,  0.70710678,  0.        ,  0.        ,  0.        ,\n",
       "         0.        ],\n",
       "       [ 0.        ,  0.        ,  0.70710678, -0.70710678,  0.        ,\n",
       "         0.        ],\n",
       "       [ 0.        ,  0.        ,  0.70710678,  0.70710678,  0.        ,\n",
       "         0.        ],\n",
       "       [ 0.        ,  0.        ,  0.        ,  0.        ,  0.70710678,\n",
       "        -0.70710678],\n",
       "       [ 0.        ,  0.        ,  0.        ,  0.        ,  0.70710678,\n",
       "         0.70710678]])"
      ]
     },
     "execution_count": 121,
     "metadata": {},
     "output_type": "execute_result"
    }
   ],
   "source": [
    "tree[3][\"B\"]"
   ]
  }
 ],
 "metadata": {
  "kernelspec": {
   "display_name": "Python 3",
   "language": "python",
   "name": "python3"
  },
  "language_info": {
   "codemirror_mode": {
    "name": "ipython",
    "version": 3
   },
   "file_extension": ".py",
   "mimetype": "text/x-python",
   "name": "python",
   "nbconvert_exporter": "python",
   "pygments_lexer": "ipython3",
   "version": "3.7.4"
  }
 },
 "nbformat": 4,
 "nbformat_minor": 4
}
