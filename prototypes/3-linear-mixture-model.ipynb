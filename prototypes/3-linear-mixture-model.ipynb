{
 "cells": [
  {
   "cell_type": "markdown",
   "metadata": {},
   "source": [
    "# Linear Error-in-Variables Mixture Model"
   ]
  },
  {
   "cell_type": "markdown",
   "metadata": {},
   "source": [
    "Reproduction of examples from section 4 in the original paper; the main aim is to compare the treelet transform with PCA.The task at hand is the recovery of the unobserved structure of the mixture model from a random sample. "
   ]
  },
  {
   "cell_type": "markdown",
   "metadata": {},
   "source": [
    "## Setup"
   ]
  },
  {
   "cell_type": "code",
   "execution_count": 1,
   "metadata": {},
   "outputs": [],
   "source": [
    "import matplotlib.pyplot as plt\n",
    "from scipy.linalg import block_diag\n",
    "import numpy as np \n",
    "import pandas as pd\n",
    "import sys\n",
    "import os"
   ]
  },
  {
   "cell_type": "code",
   "execution_count": 2,
   "metadata": {},
   "outputs": [],
   "source": [
    "from sklearn.decomposition import PCA\n",
    "from sklearn.preprocessing import StandardScaler"
   ]
  },
  {
   "cell_type": "code",
   "execution_count": 3,
   "metadata": {},
   "outputs": [],
   "source": [
    "sys.path.append(\"../scripts\")\n",
    "import python_treelet_implementation as pytree\n",
    "import test_treelets_mixture_models as ttmm\n",
    "import utils"
   ]
  },
  {
   "cell_type": "markdown",
   "metadata": {},
   "source": [
    "## Model setup"
   ]
  },
  {
   "cell_type": "markdown",
   "metadata": {},
   "source": [
    "The paper considers a sample $\\left \\{ \\vec{x}_i,y_i \\right \\}_{i=1}^{n}$ where each multivariate observation $\\vec{x} \\in \\mathbb{R}^p$ has the form $\\vec{x} = \\sum_{i=}^{K}u_j \\vec{v}_j + \\sigma \\vec{z}$ and each component corresponds to:\n",
    "\n",
    "* factors: $\\left ( u_1, ... u_k \\right )^T \\sim F_{u_1,...,u_K}$\n",
    "* loading vectors: $\\vec{v}_j$ \n",
    "* noise: $\\vec{z} \\sim \\mathcal{N}_p\\left ( 0, I \\right )$"
   ]
  },
  {
   "cell_type": "markdown",
   "metadata": {},
   "source": [
    "The response variable has the form $y = \\sum_{i=1}^{K}\\alpha_j u_j + \\epsilon$, where: \n",
    "\n",
    "* factor weights: $\\alpha_j$ \n",
    "* noise: $\\epsilon \\sim \\text{i.i.d}\\left ( 0, \\sigma_\\epsilon^2 \\right )$ "
   ]
  },
  {
   "cell_type": "markdown",
   "metadata": {},
   "source": [
    "## Uncorrelated factors and non-overlapping loading vectors "
   ]
  },
  {
   "cell_type": "markdown",
   "metadata": {},
   "source": [
    "Data is simulated according to example 1 and re-scaled to have mean 0 and variance 1. "
   ]
  },
  {
   "cell_type": "code",
   "execution_count": 66,
   "metadata": {},
   "outputs": [],
   "source": [
    "X = ttmm.linear_mixture_model(V = np.array([[1,1,1,0,0,0,0,0,0],\n",
    "                                            [0,0,0,1,1,1,1,0,0],\n",
    "                                            [0,0,0,0,0,0,0,1,1]])\\\n",
    "                                    .transpose(),\n",
    "                         C = .5*np.identity(3), \n",
    "                         sigma = .1, \n",
    "                         n = 50)"
   ]
  },
  {
   "cell_type": "code",
   "execution_count": 67,
   "metadata": {},
   "outputs": [],
   "source": [
    "scaler = StandardScaler()\n",
    "scaler.fit(X)\n",
    "X = scaler.transform(X)"
   ]
  },
  {
   "cell_type": "markdown",
   "metadata": {},
   "source": [
    "Sample covaraince matrix exhibits block structure as required and expected. "
   ]
  },
  {
   "cell_type": "code",
   "execution_count": 68,
   "metadata": {},
   "outputs": [
    {
     "data": {
      "text/plain": [
       "<matplotlib.image.AxesImage at 0x1a5c480d308>"
      ]
     },
     "execution_count": 68,
     "metadata": {},
     "output_type": "execute_result"
    },
    {
     "data": {
      "image/png": "[encoded data removed]",
      "text/plain": [
       "<Figure size 288x288 with 1 Axes>"
      ]
     },
     "metadata": {
      "needs_background": "light"
     },
     "output_type": "display_data"
    }
   ],
   "source": [
    "plt.matshow(np.cov(X.transpose()))"
   ]
  },
  {
   "cell_type": "markdown",
   "metadata": {},
   "source": [
    "Performing PCA and examining the absolute loadings for the first three components the factor structure is apparent. "
   ]
  },
  {
   "cell_type": "code",
   "execution_count": 69,
   "metadata": {},
   "outputs": [
    {
     "data": {
      "text/plain": [
       "array([[-0.02828456,  0.56519376,  0.11419933],\n",
       "       [-0.03777111,  0.56551259,  0.11235403],\n",
       "       [-0.02082328,  0.56745464,  0.10107104],\n",
       "       [ 0.49950496,  0.02229865, -0.01496883],\n",
       "       [ 0.49671961,  0.04072834, -0.02240366],\n",
       "       [ 0.49914924,  0.04014322, -0.02471338],\n",
       "       [ 0.49833397,  0.0170142 , -0.03184736],\n",
       "       [-0.05306981,  0.13193419, -0.69192381],\n",
       "       [-0.02830232,  0.13146535, -0.69498933]])"
      ]
     },
     "execution_count": 69,
     "metadata": {},
     "output_type": "execute_result"
    }
   ],
   "source": [
    "pca = PCA(n_components=3)\n",
    "pca.fit(X)\n",
    "loadings = pca.components_.T \n",
    "loadings"
   ]
  },
  {
   "cell_type": "code",
   "execution_count": 70,
   "metadata": {},
   "outputs": [
    {
     "data": {
      "image/png": "[encoded data removed]",
      "text/plain": [
       "<Figure size 432x288 with 1 Axes>"
      ]
     },
     "metadata": {
      "needs_background": "light"
     },
     "output_type": "display_data"
    }
   ],
   "source": [
    "p,l = loadings.shape\n",
    "for l in range(l): \n",
    "    plt.scatter(np.arange(p),loadings[:,l])\n",
    "    plt.plot(np.arange(p),loadings[:,l])"
   ]
  },
  {
   "cell_type": "code",
   "execution_count": 60,
   "metadata": {},
   "outputs": [
    {
     "data": {
      "text/plain": [
       "array([[0.5775939 , 0.        , 0.        ],\n",
       "       [0.5775939 , 0.        , 0.        ],\n",
       "       [0.5768627 , 0.        , 0.        ],\n",
       "       [0.        , 0.50040328, 0.        ],\n",
       "       [0.        , 0.49943928, 0.        ],\n",
       "       [0.        , 0.50040328, 0.        ],\n",
       "       [0.        , 0.49975345, 0.        ],\n",
       "       [0.        , 0.        , 0.70710678],\n",
       "       [0.        , 0.        , 0.70710678]])"
      ]
     },
     "execution_count": 60,
     "metadata": {},
     "output_type": "execute_result"
    }
   ],
   "source": [
    "tree = pytree.treelet_decomposition(X = X,\n",
    "                             L = 9)\n",
    "loadings = pytree.best_basis(tree,3,X)[0][\"basis\"]\n",
    "loadings"
   ]
  },
  {
   "cell_type": "code",
   "execution_count": 59,
   "metadata": {},
   "outputs": [
    {
     "data": {
      "image/png": "[encoded data removed]",
      "text/plain": [
       "<Figure size 432x288 with 1 Axes>"
      ]
     },
     "metadata": {
      "needs_background": "light"
     },
     "output_type": "display_data"
    }
   ],
   "source": [
    "p,l = loadings.shape\n",
    "for l in range(l): \n",
    "    plt.scatter(np.arange(p),loadings[:,l])\n",
    "    plt.plot(np.arange(p),loadings[:,l])"
   ]
  },
  {
   "cell_type": "code",
   "execution_count": 55,
   "metadata": {},
   "outputs": [
    {
     "data": {
      "text/plain": [
       "array([[0.5775939 , 0.        , 0.        ],\n",
       "       [0.5775939 , 0.        , 0.        ],\n",
       "       [0.5768627 , 0.        , 0.        ],\n",
       "       [0.        , 0.50040328, 0.        ],\n",
       "       [0.        , 0.49943928, 0.        ],\n",
       "       [0.        , 0.50040328, 0.        ],\n",
       "       [0.        , 0.49975345, 0.        ],\n",
       "       [0.        , 0.        , 0.70710678],\n",
       "       [0.        , 0.        , 0.70710678]])"
      ]
     },
     "execution_count": 55,
     "metadata": {},
     "output_type": "execute_result"
    }
   ],
   "source": []
  },
  {
   "cell_type": "code",
   "execution_count": 85,
   "metadata": {},
   "outputs": [],
   "source": [
    "A = B = C = np.ones((2,2))\n",
    "noise = np.random.normal(0,1,6*6).reshape(6,6)\n",
    "noisy_matrix = block_diag(A,B,C) + .2*np.eye(6) + 0.01*noise\n",
    "tree = pytree.treelet_decomposition(X = X,\n",
    "                                    L = 6\n",
    "                                   )"
   ]
  },
  {
   "cell_type": "code",
   "execution_count": 86,
   "metadata": {},
   "outputs": [
    {
     "data": {
      "text/plain": [
       "<matplotlib.image.AxesImage at 0x168b838db48>"
      ]
     },
     "execution_count": 86,
     "metadata": {},
     "output_type": "execute_result"
    },
    {
     "data": {
      "image/png": "[encoded data removed]",
      "text/plain": [
       "<Figure size 288x288 with 1 Axes>"
      ]
     },
     "metadata": {
      "needs_background": "light"
     },
     "output_type": "display_data"
    }
   ],
   "source": [
    "plt.matshow(tree[3][\"B\"])"
   ]
  },
  {
   "cell_type": "code",
   "execution_count": 77,
   "metadata": {},
   "outputs": [],
   "source": [
    "loadings = np.abs(np.real(np.linalg.eig(noisy_matrix)[1]))"
   ]
  },
  {
   "cell_type": "code",
   "execution_count": 78,
   "metadata": {},
   "outputs": [
    {
     "data": {
      "image/png": "[encoded data removed]",
      "text/plain": [
       "<Figure size 432x288 with 1 Axes>"
      ]
     },
     "metadata": {
      "needs_background": "light"
     },
     "output_type": "display_data"
    }
   ],
   "source": [
    "p,l = loadings.shape\n",
    "\n",
    "for l in range(l): \n",
    "    plt.scatter(np.arange(p),loadings[:,l])\n",
    "    plt.plot(np.arange(p),loadings[:,l])"
   ]
  },
  {
   "cell_type": "code",
   "execution_count": 72,
   "metadata": {},
   "outputs": [
    {
     "data": {
      "text/plain": [
       "array([[ 0.70710678, -0.70710678,  0.        ,  0.        ,  0.        ,\n",
       "         0.        ],\n",
       "       [ 0.70710678,  0.70710678,  0.        ,  0.        ,  0.        ,\n",
       "         0.        ],\n",
       "       [ 0.        ,  0.        ,  0.70710678, -0.70710678,  0.        ,\n",
       "         0.        ],\n",
       "       [ 0.        ,  0.        ,  0.70710678,  0.70710678,  0.        ,\n",
       "         0.        ],\n",
       "       [ 0.        ,  0.        ,  0.        ,  0.        ,  0.70710678,\n",
       "        -0.70710678],\n",
       "       [ 0.        ,  0.        ,  0.        ,  0.        ,  0.70710678,\n",
       "         0.70710678]])"
      ]
     },
     "execution_count": 72,
     "metadata": {},
     "output_type": "execute_result"
    }
   ],
   "source": [
    "loadings"
   ]
  },
  {
   "cell_type": "code",
   "execution_count": 80,
   "metadata": {},
   "outputs": [],
   "source": [
    "X = ttmm.linear_mixture_model(V = np.array([[1,1,1,0,0,0,0,0,0],\n",
    "                                            [0,0,0,1,1,1,1,0,0],\n",
    "                                            [0,0,0,0,0,0,0,1,1]])\\\n",
    "                                    .transpose(),\n",
    "                         C = .2*np.identity(3), \n",
    "                         sigma = 0, \n",
    "                         n = 100)"
   ]
  },
  {
   "cell_type": "code",
   "execution_count": 81,
   "metadata": {},
   "outputs": [],
   "source": [
    "scaler = StandardScaler()\n",
    "scaler.fit(X)\n",
    "X = scaler.transform(X)"
   ]
  },
  {
   "cell_type": "code",
   "execution_count": 82,
   "metadata": {},
   "outputs": [],
   "source": [
    "C = np.cov(X, rowvar = False)"
   ]
  }
 ],
 "metadata": {
  "kernelspec": {
   "display_name": "Python 3",
   "language": "python",
   "name": "python3"
  },
  "language_info": {
   "codemirror_mode": {
    "name": "ipython",
    "version": 3
   },
   "file_extension": ".py",
   "mimetype": "text/x-python",
   "name": "python",
   "nbconvert_exporter": "python",
   "pygments_lexer": "ipython3",
   "version": "3.7.4"
  }
 },
 "nbformat": 4,
 "nbformat_minor": 4
}
