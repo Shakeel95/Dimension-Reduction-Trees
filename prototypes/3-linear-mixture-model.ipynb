{
 "cells": [
  {
   "cell_type": "markdown",
   "metadata": {},
   "source": [
    "# Linear Error-in-Variables Mixture Model"
   ]
  },
  {
   "cell_type": "markdown",
   "metadata": {},
   "source": [
    "Reproduction of examples from section 4 in the original paper; the main aim is to compare the treelet transform with PCA.The task at hand is the recovery of the unobserved structure of the mixture model from a random sample. "
   ]
  },
  {
   "cell_type": "markdown",
   "metadata": {},
   "source": [
    "## Setup"
   ]
  },
  {
   "cell_type": "code",
   "execution_count": 9,
   "metadata": {},
   "outputs": [],
   "source": [
    "import matplotlib.pyplot as plt\n",
    "import numpy as np \n",
    "import pandas as pd\n",
    "import sys\n",
    "import os"
   ]
  },
  {
   "cell_type": "code",
   "execution_count": 64,
   "metadata": {},
   "outputs": [],
   "source": [
    "from sklearn.decomposition import PCA\n",
    "from sklearn.preprocessing import StandardScaler"
   ]
  },
  {
   "cell_type": "code",
   "execution_count": 11,
   "metadata": {},
   "outputs": [],
   "source": [
    "sys.path.append(\"../scripts\")\n",
    "import python_treelet_implementation as pytree\n",
    "import test_treelets_mixture_models as ttmm\n",
    "import utils"
   ]
  },
  {
   "cell_type": "markdown",
   "metadata": {},
   "source": [
    "## Model setup"
   ]
  },
  {
   "cell_type": "markdown",
   "metadata": {},
   "source": [
    "The paper considers a sample $\\left \\{ \\vec{x}_i,y_i \\right \\}_{i=1}^{n}$ where each multivariate observation $\\vec{x} \\in \\mathbb{R}^p$ has the form $\\vec{x} = \\sum_{i=}^{K}u_j \\vec{v}_j + \\sigma \\vec{z}$ and each component corresponds to:\n",
    "\n",
    "* factors: $\\left ( u_1, ... u_k \\right )^T \\sim F_{u_1,...,u_K}$\n",
    "* loading vectors: $\\vec{v}_j$ \n",
    "* noise: $\\vec{z} \\sim \\mathcal{N}_p\\left ( 0, I \\right )$"
   ]
  },
  {
   "cell_type": "markdown",
   "metadata": {},
   "source": [
    "The response variable has the form $y = \\sum_{i=1}^{K}\\alpha_j u_j + \\epsilon$, where: \n",
    "\n",
    "* factor weights: $\\alpha_j$ \n",
    "* noise: $\\epsilon \\sim \\text{i.i.d}\\left ( 0, \\sigma_\\epsilon^2 \\right )$ "
   ]
  },
  {
   "cell_type": "markdown",
   "metadata": {},
   "source": [
    "## Uncorrelated factors and non-overlapping loading vectors "
   ]
  },
  {
   "cell_type": "markdown",
   "metadata": {},
   "source": [
    "Data is simulated according to example 1 and re-scaled to have mean 0 and variance 1. "
   ]
  },
  {
   "cell_type": "code",
   "execution_count": 145,
   "metadata": {},
   "outputs": [],
   "source": [
    "X = ttmm.linear_mixture_model(V = np.array([[1,1,1,1,0,0,0,0,0,0],\n",
    "                                            [0,0,0,0,1,1,1,1,0,0],\n",
    "                                            [0,0,0,0,0,0,0,0,1,1]])\\\n",
    "                                    .transpose(),\n",
    "                         C = 2*np.identity(3), \n",
    "                         sigma = 1, \n",
    "                         n = 100)"
   ]
  },
  {
   "cell_type": "code",
   "execution_count": 146,
   "metadata": {},
   "outputs": [],
   "source": [
    "scaler = StandardScaler()\n",
    "scaler.fit(X)\n",
    "X = scaler.transform(X)"
   ]
  },
  {
   "cell_type": "markdown",
   "metadata": {},
   "source": [
    "Sample covaraince matrix exhibits block structure as required and expected. "
   ]
  },
  {
   "cell_type": "code",
   "execution_count": 147,
   "metadata": {},
   "outputs": [
    {
     "data": {
      "text/plain": [
       "<matplotlib.image.AxesImage at 0x7fd024a953d0>"
      ]
     },
     "execution_count": 147,
     "metadata": {},
     "output_type": "execute_result"
    },
    {
     "data": {
      "image/png": "[encoded data removed]",
      "text/plain": [
       "<Figure size 288x288 with 1 Axes>"
      ]
     },
     "metadata": {
      "needs_background": "light"
     },
     "output_type": "display_data"
    }
   ],
   "source": [
    "plt.matshow(np.cov(X.transpose()))"
   ]
  },
  {
   "cell_type": "markdown",
   "metadata": {},
   "source": [
    "Performing PCA and examining the absolute loadings for the first three components the factor structure is apparent. "
   ]
  },
  {
   "cell_type": "code",
   "execution_count": 148,
   "metadata": {},
   "outputs": [],
   "source": [
    "pca = PCA(n_components=3)\n",
    "pca.fit(X)\n",
    "loadings = np.abs(pca.components_.T * np.sqrt(pca.explained_variance_))"
   ]
  },
  {
   "cell_type": "code",
   "execution_count": 149,
   "metadata": {},
   "outputs": [
    {
     "data": {
      "image/png": "[encoded data removed]",
      "text/plain": [
       "<Figure size 432x288 with 1 Axes>"
      ]
     },
     "metadata": {
      "needs_background": "light"
     },
     "output_type": "display_data"
    }
   ],
   "source": [
    "p,l = loadings.shape\n",
    "for l in range(l): \n",
    "    plt.scatter(np.arange(p),loadings[:,l])\n",
    "    plt.plot(np.arange(p),loadings[:,l])"
   ]
  }
 ],
 "metadata": {
  "kernelspec": {
   "display_name": "Python 3",
   "language": "python",
   "name": "python3"
  },
  "language_info": {
   "codemirror_mode": {
    "name": "ipython",
    "version": 3
   },
   "file_extension": ".py",
   "mimetype": "text/x-python",
   "name": "python",
   "nbconvert_exporter": "python",
   "pygments_lexer": "ipython3",
   "version": "3.7.4"
  }
 },
 "nbformat": 4,
 "nbformat_minor": 4
}
