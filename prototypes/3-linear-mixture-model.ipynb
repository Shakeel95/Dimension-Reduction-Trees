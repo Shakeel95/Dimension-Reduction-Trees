{
 "cells": [
  {
   "cell_type": "markdown",
   "metadata": {},
   "source": [
    "# Linear Error-in-Variables Mixture Model"
   ]
  },
  {
   "cell_type": "markdown",
   "metadata": {},
   "source": [
    "Reproduction of examples from section 4 in the original paper; the main aim is to compare the treelet transform with PCA.The task at hand is the recovery of the unobserved structure of the mixture model from a random sample. "
   ]
  },
  {
   "cell_type": "markdown",
   "metadata": {},
   "source": [
    "## Setup"
   ]
  },
  {
   "cell_type": "code",
   "execution_count": 168,
   "metadata": {},
   "outputs": [],
   "source": [
    "import matplotlib.pyplot as plt\n",
    "import numpy as np \n",
    "import pandas as pd\n",
    "from sklearn.decomposition import PCA\n",
    "import sys\n",
    "import os"
   ]
  },
  {
   "cell_type": "code",
   "execution_count": 4,
   "metadata": {},
   "outputs": [],
   "source": [
    "sys.path.append(\"../scripts\")\n",
    "import python_treelet_implementation as pytree\n",
    "import test_treelets_mixture_models as ttmm\n",
    "import utils"
   ]
  },
  {
   "cell_type": "markdown",
   "metadata": {},
   "source": [
    "## Model setup"
   ]
  },
  {
   "cell_type": "markdown",
   "metadata": {},
   "source": [
    "The paper considers a sample $\\left \\{ \\vec{x}_i,y_i \\right \\}_{i=1}^{n}$ where each multivariate observation $\\vec{x} \\in \\mathbb{R}^p$ has the form $\\vec{x} = \\sum_{i=}^{K}u_j \\vec{v}_j + \\sigma \\vec{z}$, where each component corresponds to:\n",
    "\n",
    "* factors: $\\left ( u_1, ... u_k \\right )^T \\sim F_{u_1,...,u_K}$\n",
    "* loading vectors: $\\vec{v}_j$ \n",
    "* noise: $\\vec{z} \\sim \\mathcal{N}_p\\left ( 0, I \\right )$"
   ]
  },
  {
   "cell_type": "markdown",
   "metadata": {},
   "source": [
    "The response variable has the form $y = \\sum_{i=1}^{K}\\alpha_j u_j + \\epsilon$, where: \n",
    "\n",
    "* factor weights: $\\alpha_j$ \n",
    "* noise: $\\epsilon \\sim \\text{i.i.d}\\left ( 0, \\sigma_\\epsilon^2 \\right )$ "
   ]
  },
  {
   "cell_type": "markdown",
   "metadata": {},
   "source": [
    "## Uncorrelated factors and non-overlapping loading vectors "
   ]
  },
  {
   "cell_type": "markdown",
   "metadata": {},
   "source": [
    "Data is simulated according to example 1."
   ]
  },
  {
   "cell_type": "code",
   "execution_count": 286,
   "metadata": {},
   "outputs": [],
   "source": [
    "X = ttmm.linear_mixture_model(V = np.array([[1,1,1,1,0,0,0,0,0,0],\n",
    "                                            [0,0,0,0,1,1,1,1,0,0],\n",
    "                                            [0,0,0,0,0,0,0,0,1,1]])\\\n",
    "                                    .transpose(),\n",
    "                         C = 2*np.identity(3), \n",
    "                         sigma = 1, \n",
    "                         n = 10000)"
   ]
  },
  {
   "cell_type": "markdown",
   "metadata": {},
   "source": [
    "Sample covaraince matrix exhibits block structure as required and expected. "
   ]
  },
  {
   "cell_type": "code",
   "execution_count": 287,
   "metadata": {},
   "outputs": [
    {
     "data": {
      "text/plain": [
       "<matplotlib.image.AxesImage at 0x7f17f033c1d0>"
      ]
     },
     "execution_count": 287,
     "metadata": {},
     "output_type": "execute_result"
    },
    {
     "data": {
      "image/png": "[encoded data removed]",
      "text/plain": [
       "<Figure size 288x288 with 1 Axes>"
      ]
     },
     "metadata": {
      "needs_background": "light"
     },
     "output_type": "display_data"
    }
   ],
   "source": [
    "plt.matshow(np.cov(X.transpose()))"
   ]
  },
  {
   "cell_type": "markdown",
   "metadata": {},
   "source": [
    "However PCA does not recover the loading vectors..."
   ]
  },
  {
   "cell_type": "code",
   "execution_count": 288,
   "metadata": {},
   "outputs": [
    {
     "name": "stdout",
     "output_type": "stream",
     "text": [
      "[[ 0.1041182   0.10121794  0.10552794  0.09711539 -0.48813347 -0.49174094\n",
      "  -0.48773258 -0.49026155 -0.00360263 -0.00330378]\n",
      " [ 0.48367265  0.48769673  0.49241571  0.49381108  0.10494334  0.10413814\n",
      "   0.09812195  0.10048704  0.01341667  0.01125281]\n",
      " [ 0.00114693  0.01036557  0.01137274  0.00921688  0.00088172  0.00533337\n",
      "   0.00355905  0.00685022 -0.71011288 -0.70379531]]\n"
     ]
    }
   ],
   "source": [
    "pca = PCA(n_components=3)\n",
    "pca.fit(X)\n",
    "print(pca.components_)"
   ]
  },
  {
   "cell_type": "markdown",
   "metadata": {},
   "source": [
    "And the principal eigenvectors of the sample covaraince mattrix do not identify the loadings either..."
   ]
  },
  {
   "cell_type": "code",
   "execution_count": 289,
   "metadata": {},
   "outputs": [
    {
     "data": {
      "text/plain": [
       "array([[ 0.48367265, -0.1041182 ,  0.00114693,  0.2016231 , -0.22500522,\n",
       "         0.76139459, -0.11638641, -0.16497232, -0.12603883, -0.16604355],\n",
       "       [ 0.48769673, -0.10121794,  0.01036557,  0.07823247, -0.36715807,\n",
       "        -0.31366482,  0.54640728,  0.41379439,  0.05663612, -0.19873104],\n",
       "       [ 0.49241571, -0.10552794,  0.01137274,  0.19371831,  0.47866934,\n",
       "        -0.10253105,  0.08599169, -0.07972004, -0.04880753,  0.67302712],\n",
       "       [ 0.49381108, -0.09711539,  0.00921688, -0.47041052,  0.10223723,\n",
       "        -0.33782005, -0.50928464, -0.17560401,  0.11207523, -0.31305735],\n",
       "       [ 0.10494334,  0.48813347,  0.00088172, -0.41822916,  0.03183402,\n",
       "         0.33787675, -0.04779671,  0.48244712,  0.40876789,  0.24184948],\n",
       "       [ 0.10413814,  0.49174094,  0.00533337,  0.59143003,  0.37231802,\n",
       "        -0.10298566, -0.09120172,  0.02301542,  0.25614541, -0.41694542],\n",
       "       [ 0.09812195,  0.48773258,  0.00355905, -0.00205766, -0.48610589,\n",
       "        -0.17270162,  0.11853092, -0.61844767,  0.16769042,  0.24839514],\n",
       "       [ 0.10048704,  0.49026155,  0.00685022, -0.16741948,  0.07829693,\n",
       "        -0.05319413,  0.02708919,  0.11012042, -0.8340542 , -0.06326929],\n",
       "       [ 0.01341667,  0.00360263, -0.71011288,  0.26534655, -0.30695497,\n",
       "        -0.14599213, -0.44148815,  0.26053549, -0.07032741,  0.20461279],\n",
       "       [ 0.01125281,  0.00330378, -0.70379531, -0.26695982,  0.3141751 ,\n",
       "         0.1360946 ,  0.44814106, -0.26191332,  0.0674496 , -0.20508756]])"
      ]
     },
     "execution_count": 289,
     "metadata": {},
     "output_type": "execute_result"
    }
   ],
   "source": [
    "np.linalg.eig(np.cov(X.transpose()))[1]"
   ]
  },
  {
   "cell_type": "markdown",
   "metadata": {},
   "source": [
    "Running the treelet decomposition similarly does not does not return a useful basis... "
   ]
  },
  {
   "cell_type": "code",
   "execution_count": 290,
   "metadata": {},
   "outputs": [],
   "source": [
    "tree = pytree.treelet_decomposition(X = X.transpose(),\n",
    "                                   L = 6, \n",
    "                                   abs_ = False)\n",
    "\n",
    "best_basis = pytree.best_basis(tree = tree, \n",
    "                               K = 3, \n",
    "                               X = X.transpose())"
   ]
  },
  {
   "cell_type": "code",
   "execution_count": 291,
   "metadata": {},
   "outputs": [
    {
     "data": {
      "text/plain": [
       "array([[0., 0., 0.],\n",
       "       [0., 0., 0.],\n",
       "       [0., 0., 0.],\n",
       "       [0., 0., 0.],\n",
       "       [1., 0., 0.],\n",
       "       [0., 0., 0.],\n",
       "       [0., 1., 0.],\n",
       "       [0., 0., 1.],\n",
       "       [0., 0., 0.],\n",
       "       [0., 0., 0.]])"
      ]
     },
     "execution_count": 291,
     "metadata": {},
     "output_type": "execute_result"
    }
   ],
   "source": [
    "best_basis[0][\"basis\"]"
   ]
  },
  {
   "cell_type": "code",
   "execution_count": null,
   "metadata": {},
   "outputs": [],
   "source": []
  }
 ],
 "metadata": {
  "kernelspec": {
   "display_name": "Python 3",
   "language": "python",
   "name": "python3"
  },
  "language_info": {
   "codemirror_mode": {
    "name": "ipython",
    "version": 3
   },
   "file_extension": ".py",
   "mimetype": "text/x-python",
   "name": "python",
   "nbconvert_exporter": "python",
   "pygments_lexer": "ipython3",
   "version": "3.7.4"
  }
 },
 "nbformat": 4,
 "nbformat_minor": 4
}
