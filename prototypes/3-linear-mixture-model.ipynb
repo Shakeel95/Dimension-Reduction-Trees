{
 "cells": [
  {
   "cell_type": "markdown",
   "metadata": {},
   "source": [
    "# Linear Error-in-Variables Mixture Model"
   ]
  },
  {
   "cell_type": "markdown",
   "metadata": {},
   "source": [
    "Reproduction of examples from section 4 in the original paper; the main aim is to compare the treelet transform with PCA.The task at hand is the recovery of the unobserved structure of the mixture model from a random sample. "
   ]
  },
  {
   "cell_type": "markdown",
   "metadata": {},
   "source": [
    "## Setup"
   ]
  },
  {
   "cell_type": "code",
   "execution_count": 1,
   "metadata": {},
   "outputs": [],
   "source": [
    "import matplotlib.pyplot as plt\n",
    "import sys\n",
    "import os"
   ]
  },
  {
   "cell_type": "code",
   "execution_count": 2,
   "metadata": {},
   "outputs": [],
   "source": [
    "sys.path.append(\"../scripts\")\n",
    "import python_treelet_implementation as pytree\n",
    "import utils"
   ]
  },
  {
   "cell_type": "markdown",
   "metadata": {},
   "source": [
    "## Model setup"
   ]
  },
  {
   "cell_type": "markdown",
   "metadata": {},
   "source": [
    "The paper considers a sample $\\left \\{ \\vec{x}_i,y_i \\right \\}_{i=1}^{n}$ where each multivariate observation $\\vec{x} \\in \\mathbb{R}^p$ has the form $\\vec{x} = \\sum_{i=}^{K}u_j \\vec{v}_j + \\sigma \\vec{z}$, where each component corresponds to:\n",
    "\n",
    "* factors: $\\left ( u_1, ... u_k \\right )^T \\sim F_{u_1,...,u_K}$\n",
    "* loading vectors: $\\vec{v}_j$ \n",
    "* noise: $\\vec{z} \\sim \\mathcal{N}_p\\left ( 0, I \\right )$"
   ]
  },
  {
   "cell_type": "markdown",
   "metadata": {},
   "source": [
    "The response variable has the form $y = \\sum_{i=1}^{K}\\alpha_j u_j + \\epsilon$, where: \n",
    "\n",
    "* factor weights: $\\alpha_j$ \n",
    "* noise: $\\epsilon \\sim \\text{i.i.d}\\left ( 0, \\sigma_\\epsilon^2 \\right )$ "
   ]
  },
  {
   "cell_type": "markdown",
   "metadata": {},
   "source": [
    "## Uncorrelated factors and non-overlapping loading vectors "
   ]
  },
  {
   "cell_type": "markdown",
   "metadata": {},
   "source": [
    "### Setup"
   ]
  },
  {
   "cell_type": "code",
   "execution_count": null,
   "metadata": {},
   "outputs": [],
   "source": []
  }
 ],
 "metadata": {
  "kernelspec": {
   "display_name": "Python 3",
   "language": "python",
   "name": "python3"
  },
  "language_info": {
   "codemirror_mode": {
    "name": "ipython",
    "version": 3
   },
   "file_extension": ".py",
   "mimetype": "text/x-python",
   "name": "python",
   "nbconvert_exporter": "python",
   "pygments_lexer": "ipython3",
   "version": "3.7.4"
  }
 },
 "nbformat": 4,
 "nbformat_minor": 4
}
