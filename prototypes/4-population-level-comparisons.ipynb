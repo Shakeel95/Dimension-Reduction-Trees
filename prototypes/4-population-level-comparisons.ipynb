{
 "cells": [
  {
   "cell_type": "markdown",
   "metadata": {},
   "source": [
    "# Perturb Population matrix"
   ]
  },
  {
   "cell_type": "markdown",
   "metadata": {},
   "source": [
    "How much can we perturb the population covariance until treelets stop bieng able to see the underlying factor structure? ~"
   ]
  },
  {
   "cell_type": "markdown",
   "metadata": {},
   "source": [
    "## Setup"
   ]
  },
  {
   "cell_type": "code",
   "execution_count": 1,
   "metadata": {},
   "outputs": [],
   "source": [
    "import matplotlib.pyplot as plt\n",
    "from sklearn.decomposition import PCA\n",
    "from scipy.linalg import block_diag\n",
    "from scipy.linalg import toeplitz\n",
    "import numpy as np \n",
    "import pandas as pd\n",
    "import sys\n",
    "import os"
   ]
  },
  {
   "cell_type": "code",
   "execution_count": 2,
   "metadata": {},
   "outputs": [],
   "source": [
    "sys.path.append(\"../scripts\")\n",
    "import python_treelet_implementation as pytree\n",
    "import test_treelets_mixture_models as ttmm\n",
    "import utils"
   ]
  },
  {
   "cell_type": "markdown",
   "metadata": {},
   "source": [
    "## Uncorrelated factors and non-overlapping loading vectors "
   ]
  },
  {
   "cell_type": "markdown",
   "metadata": {},
   "source": [
    "### Noise free setting"
   ]
  },
  {
   "cell_type": "code",
   "execution_count": 9,
   "metadata": {},
   "outputs": [
    {
     "data": {
      "text/plain": [
       "<matplotlib.image.AxesImage at 0x1cd96f3ee88>"
      ]
     },
     "execution_count": 9,
     "metadata": {},
     "output_type": "execute_result"
    },
    {
     "data": {
      "image/png": "[encoded data removed]",
      "text/plain": [
       "<Figure size 288x288 with 1 Axes>"
      ]
     },
     "metadata": {
      "needs_background": "light"
     },
     "output_type": "display_data"
    }
   ],
   "source": [
    "A = B = C = np.ones((2,2))\n",
    "D = np.zeros(1)\n",
    "noiseless_matrix = block_diag(A,B,C,D)\n",
    "\n",
    "plt.matshow(noiseless_matrix)"
   ]
  },
  {
   "cell_type": "code",
   "execution_count": 42,
   "metadata": {},
   "outputs": [
    {
     "data": {
      "text/plain": [
       "<matplotlib.image.AxesImage at 0x203b9b56f88>"
      ]
     },
     "execution_count": 42,
     "metadata": {},
     "output_type": "execute_result"
    },
    {
     "data": {
      "image/png": "[encoded data removed]",
      "text/plain": [
       "<Figure size 288x288 with 1 Axes>"
      ]
     },
     "metadata": {
      "needs_background": "light"
     },
     "output_type": "display_data"
    }
   ],
   "source": [
    "tree = pytree.treelet_decomposition(X = noiseless_matrix, \n",
    "                                    L = 7)\n",
    "basis = tree[3][\"B\"]\n",
    "plt.matshow(basis)"
   ]
  },
  {
   "cell_type": "code",
   "execution_count": null,
   "metadata": {},
   "outputs": [],
   "source": []
  },
  {
   "cell_type": "code",
   "execution_count": 43,
   "metadata": {},
   "outputs": [
    {
     "data": {
      "text/plain": [
       "<matplotlib.image.AxesImage at 0x203b987e2c8>"
      ]
     },
     "execution_count": 43,
     "metadata": {},
     "output_type": "execute_result"
    },
    {
     "data": {
      "image/png": "[encoded data removed]",
      "text/plain": [
       "<Figure size 288x288 with 1 Axes>"
      ]
     },
     "metadata": {
      "needs_background": "light"
     },
     "output_type": "display_data"
    }
   ],
   "source": [
    "eigen_vectors = np.linalg.eig(noiseless_matrix)[1]\n",
    "real_valued_eigen = np.real(eigen_vectors)\n",
    "plt.matshow(real_valued_eigen)"
   ]
  },
  {
   "cell_type": "code",
   "execution_count": 44,
   "metadata": {},
   "outputs": [
    {
     "data": {
      "text/plain": [
       "array([[ 0.70710678, -0.70710678,  0.        ,  0.        ,  0.        ,\n",
       "         0.        ,  0.        ],\n",
       "       [ 0.70710678,  0.70710678,  0.        ,  0.        ,  0.        ,\n",
       "         0.        ,  0.        ],\n",
       "       [ 0.        ,  0.        ,  0.70710678, -0.70710678,  0.        ,\n",
       "         0.        ,  0.        ],\n",
       "       [ 0.        ,  0.        ,  0.70710678,  0.70710678,  0.        ,\n",
       "         0.        ,  0.        ],\n",
       "       [ 0.        ,  0.        ,  0.        ,  0.        ,  0.70710678,\n",
       "        -0.70710678,  0.        ],\n",
       "       [ 0.        ,  0.        ,  0.        ,  0.        ,  0.70710678,\n",
       "         0.70710678,  0.        ],\n",
       "       [ 0.        ,  0.        ,  0.        ,  0.        ,  0.        ,\n",
       "         0.        ,  1.        ]])"
      ]
     },
     "execution_count": 44,
     "metadata": {},
     "output_type": "execute_result"
    }
   ],
   "source": [
    "real_valued_eigen"
   ]
  },
  {
   "cell_type": "markdown",
   "metadata": {},
   "source": [
    "### Tests"
   ]
  },
  {
   "cell_type": "code",
   "execution_count": 3,
   "metadata": {},
   "outputs": [],
   "source": [
    "import tail_greedy_treelet as tail_greedy\n",
    "import test_treelets_mixture_models as model\n",
    "import utils"
   ]
  },
  {
   "cell_type": "code",
   "execution_count": 55,
   "metadata": {},
   "outputs": [],
   "source": [
    "X = model.three_correlated_factors(V = np.array([[1,1,1,1,0,0,0,0,0,0],\n",
    "                                                 [0,0,0,0,1,1,1,1,0,0],\n",
    "                                                 [0,0,0,0,0,0,0,0,1,1]])\\\n",
    "                                   .transpose(),\n",
    "                                   sigma = 1, \n",
    "                                   sigma1 = np.sqrt(290), \n",
    "                                   sigma2 = np.sqrt(300),\n",
    "                                   c1 = -0.3, \n",
    "                                   c2 = 0.925,\n",
    "                                   n = 1000\n",
    "                                  )"
   ]
  },
  {
   "cell_type": "code",
   "execution_count": 62,
   "metadata": {},
   "outputs": [
    {
     "data": {
      "text/plain": [
       "<matplotlib.legend.Legend at 0x19a7e2dbc48>"
      ]
     },
     "execution_count": 62,
     "metadata": {},
     "output_type": "execute_result"
    },
    {
     "data": {
      "image/png": "[encoded data removed]",
      "text/plain": [
       "<Figure size 432x288 with 1 Axes>"
      ]
     },
     "metadata": {
      "needs_background": "light"
     },
     "output_type": "display_data"
    }
   ],
   "source": [
    "tree = tail_greedy.treelet_decomposition(X,.2)\n",
    "loadings = pytree.best_basis(tree,3,X)[0][\"basis\"]\n",
    "\n",
    "p,l = loadings.shape\n",
    "for l in range(l): \n",
    "    plt.scatter(np.arange(p),loadings[:,l])\n",
    "    plt.plot(np.arange(p),loadings[:,l], label = \"Basis \" + str(1+1))\n",
    "    \n",
    "plt.xlabel(\"component\")\n",
    "plt.ylabel(\"loading\")\n",
    "plt.legend()"
   ]
  },
  {
   "cell_type": "code",
   "execution_count": 63,
   "metadata": {},
   "outputs": [
    {
     "data": {
      "text/plain": [
       "<matplotlib.legend.Legend at 0x19a7e58ad88>"
      ]
     },
     "execution_count": 63,
     "metadata": {},
     "output_type": "execute_result"
    },
    {
     "data": {
      "image/png": "[encoded data removed]",
      "text/plain": [
       "<Figure size 432x288 with 1 Axes>"
      ]
     },
     "metadata": {
      "needs_background": "light"
     },
     "output_type": "display_data"
    }
   ],
   "source": [
    "tree = pytree.treelet_decomposition(X,X.shape[1])\n",
    "loadings = pytree.best_basis(tree,3,X)[0][\"basis\"]\n",
    "\n",
    "p,l = loadings.shape\n",
    "for l in range(l): \n",
    "    plt.scatter(np.arange(p),loadings[:,l])\n",
    "    plt.plot(np.arange(p),loadings[:,l], label = \"Basis \" + str(1+1))\n",
    "    \n",
    "plt.xlabel(\"component\")\n",
    "plt.ylabel(\"loading\")\n",
    "plt.legend()"
   ]
  },
  {
   "cell_type": "code",
   "execution_count": null,
   "metadata": {},
   "outputs": [],
   "source": []
  }
 ],
 "metadata": {
  "kernelspec": {
   "display_name": "Python 3",
   "language": "python",
   "name": "python3"
  },
  "language_info": {
   "codemirror_mode": {
    "name": "ipython",
    "version": 3
   },
   "file_extension": ".py",
   "mimetype": "text/x-python",
   "name": "python",
   "nbconvert_exporter": "python",
   "pygments_lexer": "ipython3",
   "version": "3.7.4"
  }
 },
 "nbformat": 4,
 "nbformat_minor": 4
}
